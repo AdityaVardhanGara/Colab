{
  "nbformat": 4,
  "nbformat_minor": 0,
  "metadata": {
    "colab": {
      "name": "BPE.ipynb",
      "provenance": [],
      "toc_visible": true,
      "authorship_tag": "ABX9TyPvc3k8QVv/qLL+Q8JroTHr",
      "include_colab_link": true
    },
    "kernelspec": {
      "name": "python3",
      "display_name": "Python 3"
    }
  },
  "cells": [
    {
      "cell_type": "markdown",
      "metadata": {
        "id": "view-in-github",
        "colab_type": "text"
      },
      "source": [
        "<a href=\"https://colab.research.google.com/github/AdityaVardhanGara/Colab/blob/master/BPE.ipynb\" target=\"_parent\"><img src=\"https://colab.research.google.com/assets/colab-badge.svg\" alt=\"Open In Colab\"/></a>"
      ]
    },
    {
      "cell_type": "code",
      "metadata": {
        "id": "prq_lVrSTlMZ"
      },
      "source": [
        "import pandas as pd\n",
        "\n",
        "#reading .txt file\n",
        "text = pd.read_csv(\"sample.txt\",header=None)\n",
        "\n",
        "#converting a dataframe into a single list \n",
        "corpus=[]\n",
        "for row in text.values:\n",
        "    tokens = row[0].split(\" \")\n",
        "    for token in tokens:\n",
        "        corpus.append(token)"
      ],
      "execution_count": 16,
      "outputs": []
    },
    {
      "cell_type": "code",
      "metadata": {
        "id": "1IiCHi0JU3gI"
      },
      "source": [
        "vocab = list(set(\" \".join(corpus)))\n",
        "vocab.remove(' ')\n",
        "\n",
        "#split the word into characters\n",
        "corpus = [\" \".join(token) for token in corpus]\n",
        "\n",
        "#appending </w>\n",
        "#corpus=[token+' </w>' for token in corpus]"
      ],
      "execution_count": 17,
      "outputs": []
    },
    {
      "cell_type": "code",
      "metadata": {
        "id": "cxXAWDgNU_bI",
        "outputId": "18be096d-0ce7-4d6f-9c51-5495ebe6fc35",
        "colab": {
          "base_uri": "https://localhost:8080/",
          "height": 34
        }
      },
      "source": [
        "import collections\n",
        "\n",
        "#returns frequency of each word\n",
        "corpus = collections.Counter(corpus)\n",
        "\n",
        "#convert counter object to dictionary\n",
        "corpus = dict(corpus)\n",
        "print(\"Corpus:\",corpus)"
      ],
      "execution_count": 18,
      "outputs": [
        {
          "output_type": "stream",
          "text": [
            "Corpus: {'l o w': 5, 'l o w e r': 2, '': 1, 'w i d e s t': 3, 'n e w e s t': 6}\n"
          ],
          "name": "stdout"
        }
      ]
    },
    {
      "cell_type": "code",
      "metadata": {
        "id": "X_Ge_ZssVFhF"
      },
      "source": [
        "def get_stats(corpus):\n",
        "    pairs = collections.defaultdict(int)\n",
        "    for word, freq in corpus.items():\n",
        "        symbols = word.split()\n",
        "        for i in range(len(symbols)-1):\n",
        "            pairs[symbols[i],symbols[i+1]] += freq\n",
        "    return pairs"
      ],
      "execution_count": 19,
      "outputs": []
    },
    {
      "cell_type": "code",
      "metadata": {
        "id": "atsFH8UIVLU2"
      },
      "source": [
        "import re\n",
        "def merge_vocab(pair, corpus_in):\n",
        "    corpus_out = {}\n",
        "    bigram = re.escape(' '.join(pair))\n",
        "    p = re.compile(r'(?<!\\S)' + bigram + r'(?!\\S)')\n",
        "    \n",
        "    for word in corpus_in:\n",
        "        w_out = p.sub(''.join(pair), word)\n",
        "        corpus_out[w_out] = corpus_in[word]\n",
        "    \n",
        "    return corpus_out"
      ],
      "execution_count": 20,
      "outputs": []
    },
    {
      "cell_type": "code",
      "metadata": {
        "id": "uFDIj_4aVQP4",
        "outputId": "b90474d6-8fb6-4745-d71e-42eca39f33d0",
        "colab": {
          "base_uri": "https://localhost:8080/",
          "height": 54
        }
      },
      "source": [
        "pairs = get_stats(corpus)\n",
        "print(pairs)"
      ],
      "execution_count": 21,
      "outputs": [
        {
          "output_type": "stream",
          "text": [
            "defaultdict(<class 'int'>, {('l', 'o'): 7, ('o', 'w'): 7, ('w', 'e'): 8, ('e', 'r'): 2, ('w', 'i'): 3, ('i', 'd'): 3, ('d', 'e'): 3, ('e', 's'): 9, ('s', 't'): 9, ('n', 'e'): 6, ('e', 'w'): 6})\n"
          ],
          "name": "stdout"
        }
      ]
    },
    {
      "cell_type": "code",
      "metadata": {
        "id": "sVj9reI2VV7w",
        "outputId": "5cafb66b-9ea8-4d0a-f031-4910e613dda0",
        "colab": {
          "base_uri": "https://localhost:8080/",
          "height": 34
        }
      },
      "source": [
        "best = max(pairs, key=pairs.get)\n",
        "print(\"Most Frequent pair:\",best)"
      ],
      "execution_count": 22,
      "outputs": [
        {
          "output_type": "stream",
          "text": [
            "Most Frequent pair: ('e', 's')\n"
          ],
          "name": "stdout"
        }
      ]
    },
    {
      "cell_type": "code",
      "metadata": {
        "id": "64EipaPUVdpt",
        "outputId": "6d25609e-7b15-4454-bffa-feff340f16b9",
        "colab": {
          "base_uri": "https://localhost:8080/",
          "height": 34
        }
      },
      "source": [
        "corpus = merge_vocab(best, corpus)\n",
        "print(\"After Merging:\", corpus)\n",
        "\n",
        "#convert a tuple to a string\n",
        "best = \"\".join(list(best))\n",
        "\n",
        "#append to merge list and vocabulary\n",
        "merges = []\n",
        "merges.append(best)\n",
        "vocab.append(best)"
      ],
      "execution_count": 23,
      "outputs": [
        {
          "output_type": "stream",
          "text": [
            "After Merging: {'l o w': 5, 'l o w e r': 2, '': 1, 'w i d es t': 3, 'n e w es t': 6}\n"
          ],
          "name": "stdout"
        }
      ]
    },
    {
      "cell_type": "code",
      "metadata": {
        "id": "eSALe4mAVsqX",
        "outputId": "506021f1-cc98-4d5f-d555-072d1b4bc02e",
        "colab": {
          "base_uri": "https://localhost:8080/",
          "height": 34
        }
      },
      "source": [
        "num_merges = 10\n",
        "for i in range(num_merges):\n",
        "    \n",
        "    #compute frequency of bigrams in a corpus\n",
        "    pairs = get_stats(corpus)\n",
        "    \n",
        "    #compute the best pair\n",
        "    best = max(pairs, key=pairs.get)\n",
        "    \n",
        "    #merge the frequent pair in corpus\n",
        "    corpus = merge_vocab(best, corpus)\n",
        "    \n",
        "    #append to merge list and vocabulary\n",
        "    merges.append(best)\n",
        "    vocab.append(best)\n",
        "\n",
        "#convert a tuple to a string\n",
        "merges_in_string = [\"\".join(list(i)) for i in merges]\n",
        "print(\"BPE Merge Operations:\",merges_in_string)"
      ],
      "execution_count": 24,
      "outputs": [
        {
          "output_type": "stream",
          "text": [
            "BPE Merge Operations: ['es', 'est', 'lo', 'low', 'ne', 'new', 'newest', 'wi', 'wid', 'widest', 'lowe']\n"
          ],
          "name": "stdout"
        }
      ]
    },
    {
      "cell_type": "code",
      "metadata": {
        "id": "AO5dKSJ2V147"
      },
      "source": [
        "oov ='lowest'\n",
        "\n",
        "#tokenize OOV into characters\n",
        "oov = \" \".join(list(oov))\n",
        "\n",
        "#append </w> \n",
        "oov = oov + ' </w>'\n",
        "\n",
        "#create a dictionary\n",
        "oov = { oov : 1}"
      ],
      "execution_count": 25,
      "outputs": []
    },
    {
      "cell_type": "code",
      "metadata": {
        "id": "5LgE8xnwV6iY",
        "outputId": "59d7e1d9-7cfd-4d87-c6b5-f6c2cddbc6d0",
        "colab": {
          "base_uri": "https://localhost:8080/",
          "height": 102
        }
      },
      "source": [
        "i=0\n",
        "while(True):\n",
        "\n",
        "    #compute frequency\n",
        "    pairs = get_stats(oov)\n",
        "\n",
        "    #extract keys\n",
        "    pairs = pairs.keys()\n",
        "    \n",
        "    #find the pairs available in the learned operations\n",
        "    ind=[merges.index(i) for i in pairs if i in merges]\n",
        "\n",
        "    if(len(ind)==0):\n",
        "        print(\"\\nBPE Completed...\")\n",
        "        break\n",
        "    \n",
        "    #choose the most frequent learned operation\n",
        "    best = merges[min(ind)]\n",
        "    \n",
        "    #merge the best pair\n",
        "    oov = merge_vocab(best, oov)\n",
        "    \n",
        "    print(\"Iteration \",i+1, list(oov.keys())[0])\n",
        "    i=i+1"
      ],
      "execution_count": 26,
      "outputs": [
        {
          "output_type": "stream",
          "text": [
            "Iteration  1 lo w e s t </w>\n",
            "Iteration  2 low e s t </w>\n",
            "Iteration  3 lowe s t </w>\n",
            "\n",
            "BPE Completed...\n"
          ],
          "name": "stdout"
        }
      ]
    },
    {
      "cell_type": "markdown",
      "metadata": {
        "id": "eR31ZYHbT1oV"
      },
      "source": [
        "# New Section"
      ]
    }
  ]
}